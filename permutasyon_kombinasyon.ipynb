{
  "nbformat": 4,
  "nbformat_minor": 0,
  "metadata": {
    "colab": {
      "provenance": []
    },
    "kernelspec": {
      "name": "python3",
      "display_name": "Python 3"
    },
    "language_info": {
      "name": "python"
    }
  },
  "cells": [
    {
      "cell_type": "code",
      "source": [
        "#1445550099\n",
        "\n",
        "# sayısının rakamlarının yerleri değiştirilerek dokuz basamaklı kaç farklı çift sayı yazılabilir.\n"
      ],
      "metadata": {
        "id": "qEg8-ekW9rjB"
      },
      "execution_count": 1,
      "outputs": []
    },
    {
      "cell_type": "code",
      "source": [
        "import math\n",
        "\n",
        "def permütasyon(n, k):\n",
        "    return math.factorial(n) // math.factorial(n - k)\n",
        "\n",
        "#n = int(input(\"Kümenin eleman sayısını girin: \"))\n",
        "#k = int(input(\"Sıralanacak eleman sayısını girin: \"))\n",
        "#print(\"Permütasyon sayısı:\", permütasyon(n, k))\n",
        "\n",
        "\n",
        "\n",
        "\n"
      ],
      "metadata": {
        "id": "sIKrx_OY-UJC"
      },
      "execution_count": 2,
      "outputs": []
    },
    {
      "cell_type": "code",
      "execution_count": 3,
      "metadata": {
        "id": "-cyMwiYBefXr"
      },
      "outputs": [],
      "source": [
        "def factorial(n):\n",
        "    if n == 0:\n",
        "        return 1\n",
        "    else:\n",
        "        return n * factorial(n-1)"
      ]
    },
    {
      "cell_type": "code",
      "source": [],
      "metadata": {
        "id": "7GB56gWkA5CP"
      },
      "execution_count": null,
      "outputs": []
    },
    {
      "cell_type": "code",
      "source": [
        "result = (7 * factorial(7) *2)/(factorial(2)*factorial(2)*factorial(3)) + (6 * factorial(7) *2)/(factorial(2)*factorial(2)*factorial(3))"
      ],
      "metadata": {
        "id": "PD89TdltA5u9"
      },
      "execution_count": 4,
      "outputs": []
    },
    {
      "cell_type": "code",
      "source": [
        "print(\"result of the permutation question  : \", result);"
      ],
      "metadata": {
        "colab": {
          "base_uri": "https://localhost:8080/"
        },
        "id": "p23pVpgXA_KB",
        "outputId": "50b2b755-c95e-4ab3-8032-49c214c6a50a"
      },
      "execution_count": 5,
      "outputs": [
        {
          "output_type": "stream",
          "name": "stdout",
          "text": [
            "result of the permutation question  :  5460.0\n"
          ]
        }
      ]
    },
    {
      "cell_type": "code",
      "source": [
        "#Kombinasyon sorusu\n"
      ],
      "metadata": {
        "id": "8iZOtGcZBI38"
      },
      "execution_count": null,
      "outputs": []
    },
    {
      "cell_type": "code",
      "source": [],
      "metadata": {
        "id": "LO8Ab8yvBMQl"
      },
      "execution_count": null,
      "outputs": []
    },
    {
      "cell_type": "markdown",
      "source": [
        "# 12 lirası olan bir öğrenci fiyatı 4'er lira olan A, B, C kitapları ve 2'şer lira olan D, E, F, G, H, K  kitaplarından bazılarını seçip alacaktır.\n",
        "\n",
        "Paranın tamamını seçip harcayacak olan öğrenci kaç farklı seçim yapabilir."
      ],
      "metadata": {
        "id": "z1UV4ouVBMok"
      }
    },
    {
      "cell_type": "code",
      "source": [
        " #4 (3) 2(6)\n",
        " #3      0\n",
        "# 2      2\n",
        " #1      4\n",
        "# 0      6"
      ],
      "metadata": {
        "id": "JOq_ZPxMBPhI"
      },
      "execution_count": null,
      "outputs": []
    },
    {
      "cell_type": "code",
      "source": [
        "#math.comb(n, k)"
      ],
      "metadata": {
        "id": "keq9l2UgBSkX"
      },
      "execution_count": 6,
      "outputs": []
    },
    {
      "cell_type": "code",
      "source": [
        "result = math.comb(3, 3) + math.comb(3, 2)* math.comb(6, 2) + math.comb(3, 1) * math.comb(6, 4) + math.comb(6, 6)"
      ],
      "metadata": {
        "id": "nrG06XNFBWwv"
      },
      "execution_count": 7,
      "outputs": []
    },
    {
      "cell_type": "code",
      "source": [
        "print(result)"
      ],
      "metadata": {
        "colab": {
          "base_uri": "https://localhost:8080/"
        },
        "id": "y_eP5NthBZis",
        "outputId": "91d1a3fd-7b88-4d6e-c99c-84d438a36218"
      },
      "execution_count": 8,
      "outputs": [
        {
          "output_type": "stream",
          "name": "stdout",
          "text": [
            "92\n"
          ]
        }
      ]
    }
  ]
}