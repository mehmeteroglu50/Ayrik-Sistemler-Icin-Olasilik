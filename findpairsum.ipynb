{
  "nbformat": 4,
  "nbformat_minor": 0,
  "metadata": {
    "colab": {
      "provenance": []
    },
    "kernelspec": {
      "name": "python3",
      "display_name": "Python 3"
    },
    "language_info": {
      "name": "python"
    }
  },
  "cells": [
    {
      "cell_type": "code",
      "source": [
        "# problem: s = {1,2,3,4,5,6,7,8,9,10,11,12,13,14,15,16,17,19,20}\n",
        "# If we pick 11 numbers we are guaranteed that the sum of two picked numbers is 21 , prove that ....\n"
      ],
      "metadata": {
        "id": "qEg8-ekW9rjB"
      },
      "execution_count": null,
      "outputs": []
    },
    {
      "cell_type": "code",
      "source": [
        "# Adım 1->  10 adet numara seçelim, bunlar varsayımsal olarak = > 1 , 2, 3, 4 ,5,6,7,8,9,10 olsun...\n",
        "# Adım 2->  Şimdi Kalan 10 numaradan bir tane daha seçilmeli, 11, 12 ,13, 14, 15, 16, 17, 18, 19, 20 sayılarından her hangi birinin seçilmesi durumu, 16 olsun,\n",
        "# Adım 3->  seçilen 16 sayısı birisi 5 olacağı için toplam değeri olan 21 sonucu çıkacaktır."
      ],
      "metadata": {
        "id": "sIKrx_OY-UJC"
      },
      "execution_count": null,
      "outputs": []
    },
    {
      "cell_type": "code",
      "execution_count": null,
      "metadata": {
        "colab": {
          "base_uri": "https://localhost:8080/"
        },
        "id": "-cyMwiYBefXr",
        "outputId": "3dfe7e63-1dec-4f64-e87d-a74332900ab2"
      },
      "outputs": [
        {
          "output_type": "stream",
          "name": "stdout",
          "text": [
            "Toplamı 21 olan bir çift: (5, 16)\n"
          ]
        }
      ],
      "source": [
        "import random\n",
        "\n",
        "def find_pair_sum_21(numbers):\n",
        "    pairs = set()\n",
        "    for num in numbers:\n",
        "        complement = 21 - num\n",
        "        if complement in pairs:\n",
        "            return (complement, num)  # 21 olan bir çift sayı bulunduğunda çifti döndür\n",
        "        pairs.add(num)\n",
        "    return None  # Eğer böyle bir çift bulunamazsa None döndür\n",
        "\n",
        "# Her seferinde farklı 11 sayı almak için rastgele bir set oluştur\n",
        "picked_numbers = set(random.sample(range(1, 21), 11))\n",
        "\n",
        "# 21 olan bir çifti bul\n",
        "pair = find_pair_sum_21(picked_numbers)\n",
        "\n",
        "# Eğer çift bulunduysa çifti yazdır, bulunamadıysa bulunamadığına dair bir mesaj yazdır\n",
        "if pair:\n",
        "    print(f\"Toplamı 21 olan bir çift: {pair}\")\n",
        "else:\n",
        "    print(\"Toplamı 21 olan bir çift bulunamadı.\")\n"
      ]
    }
  ]
}